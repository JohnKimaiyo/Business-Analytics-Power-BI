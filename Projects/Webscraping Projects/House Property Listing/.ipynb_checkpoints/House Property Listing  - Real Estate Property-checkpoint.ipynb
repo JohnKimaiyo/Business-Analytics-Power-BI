{
 "cells": [
  {
   "cell_type": "markdown",
   "id": "6e7e6e5b",
   "metadata": {},
   "source": [
    "# Real Estate Exploratory Data Analysis of  https://www.trulia.com/  website\n",
    "\n",
    "# We Analyse data to answer the below questions\n",
    "\n",
    "## 1 Which year had the most expensive houses\n",
    "## 2 Which  house  based on bedroom category had the highest price\n",
    "## 3 Which house based on bathrooms category had the highest price\n",
    "## 4 Which house  based on parking category had the highest price\n",
    "## 5 Which  Location type  house had the highest price \n",
    "\n",
    "## Import Data"
   ]
  },
  {
   "cell_type": "code",
   "execution_count": 1,
   "id": "0500ae6e",
   "metadata": {},
   "outputs": [],
   "source": [
    "import pandas as pd\n",
    "import os\n",
    "\n",
    "cwd = os.getcwd()\n"
   ]
  },
  {
   "cell_type": "markdown",
   "id": "907a6fd1",
   "metadata": {},
   "source": [
    "## Concatenate 10 datasets"
   ]
  },
  {
   "cell_type": "code",
   "execution_count": 2,
   "id": "01ea4e8e",
   "metadata": {},
   "outputs": [
    {
     "data": {
      "text/plain": [
       "['.ipynb_checkpoints',\n",
       " '011 dataframe_albuquerque.xlsx',\n",
       " '011 dataframe_colorado.xlsx',\n",
       " '011 dataframe_indianapolis.xlsx',\n",
       " '011 dataframe_las_vegas.xlsx',\n",
       " '011 dataframe_miami.xlsx',\n",
       " '011 dataframe_new_york.xlsx',\n",
       " '011 dataframe_philadelphia.xlsx',\n",
       " '011 dataframe_san_diego.xlsx',\n",
       " '011 dataframe_san_francisco.xlsx',\n",
       " '011 dataframe_washington.xlsx',\n",
       " 'Real Estate EDA.ipynb',\n",
       " 'sheet1.xlsx']"
      ]
     },
     "execution_count": 2,
     "metadata": {},
     "output_type": "execute_result"
    }
   ],
   "source": [
    "# current work directory\n",
    "path = os.getcwd()\n",
    "\n",
    "# show all files\n",
    "files = os.listdir(path)\n",
    "files"
   ]
  },
  {
   "cell_type": "code",
   "execution_count": 3,
   "id": "7ecd7ecf",
   "metadata": {},
   "outputs": [],
   "source": [
    "files_needed = [\n",
    "    '011 dataframe_albuquerque.xlsx',\n",
    " '011 dataframe_colorado.xlsx',\n",
    " '011 dataframe_indianapolis.xlsx',\n",
    " '011 dataframe_las_vegas.xlsx',\n",
    " '011 dataframe_miami.xlsx',\n",
    " '011 dataframe_new_york.xlsx',\n",
    " '011 dataframe_philadelphia.xlsx',\n",
    " '011 dataframe_san_diego.xlsx',\n",
    " '011 dataframe_san_francisco.xlsx',\n",
    " '011 dataframe_washington.xlsx',\n",
    "    'sheet1.xlsx',\n",
    "    \n",
    "]"
   ]
  },
  {
   "cell_type": "code",
   "execution_count": 4,
   "id": "53498b84",
   "metadata": {},
   "outputs": [
    {
     "data": {
      "text/plain": [
       "11"
      ]
     },
     "execution_count": 4,
     "metadata": {},
     "output_type": "execute_result"
    }
   ],
   "source": [
    "len(files_needed)"
   ]
  },
  {
   "cell_type": "code",
   "execution_count": 5,
   "id": "1dada17e",
   "metadata": {},
   "outputs": [
    {
     "name": "stderr",
     "output_type": "stream",
     "text": [
      "C:\\Users\\jki\\AppData\\Local\\Temp\\ipykernel_1524\\8645480.py:14: FutureWarning: The frame.append method is deprecated and will be removed from pandas in a future version. Use pandas.concat instead.\n",
      "  df_combined = df_combined.append(df_sheet, ignore_index=True)\n",
      "C:\\Users\\jki\\AppData\\Local\\Temp\\ipykernel_1524\\8645480.py:14: FutureWarning: The frame.append method is deprecated and will be removed from pandas in a future version. Use pandas.concat instead.\n",
      "  df_combined = df_combined.append(df_sheet, ignore_index=True)\n",
      "C:\\Users\\jki\\AppData\\Local\\Temp\\ipykernel_1524\\8645480.py:14: FutureWarning: The frame.append method is deprecated and will be removed from pandas in a future version. Use pandas.concat instead.\n",
      "  df_combined = df_combined.append(df_sheet, ignore_index=True)\n",
      "C:\\Users\\jki\\AppData\\Local\\Temp\\ipykernel_1524\\8645480.py:14: FutureWarning: The frame.append method is deprecated and will be removed from pandas in a future version. Use pandas.concat instead.\n",
      "  df_combined = df_combined.append(df_sheet, ignore_index=True)\n",
      "C:\\Users\\jki\\AppData\\Local\\Temp\\ipykernel_1524\\8645480.py:14: FutureWarning: The frame.append method is deprecated and will be removed from pandas in a future version. Use pandas.concat instead.\n",
      "  df_combined = df_combined.append(df_sheet, ignore_index=True)\n",
      "C:\\Users\\jki\\AppData\\Local\\Temp\\ipykernel_1524\\8645480.py:14: FutureWarning: The frame.append method is deprecated and will be removed from pandas in a future version. Use pandas.concat instead.\n",
      "  df_combined = df_combined.append(df_sheet, ignore_index=True)\n",
      "C:\\Users\\jki\\AppData\\Local\\Temp\\ipykernel_1524\\8645480.py:14: FutureWarning: The frame.append method is deprecated and will be removed from pandas in a future version. Use pandas.concat instead.\n",
      "  df_combined = df_combined.append(df_sheet, ignore_index=True)\n",
      "C:\\Users\\jki\\AppData\\Local\\Temp\\ipykernel_1524\\8645480.py:14: FutureWarning: The frame.append method is deprecated and will be removed from pandas in a future version. Use pandas.concat instead.\n",
      "  df_combined = df_combined.append(df_sheet, ignore_index=True)\n",
      "C:\\Users\\jki\\AppData\\Local\\Temp\\ipykernel_1524\\8645480.py:14: FutureWarning: The frame.append method is deprecated and will be removed from pandas in a future version. Use pandas.concat instead.\n",
      "  df_combined = df_combined.append(df_sheet, ignore_index=True)\n",
      "C:\\Users\\jki\\AppData\\Local\\Temp\\ipykernel_1524\\8645480.py:14: FutureWarning: The frame.append method is deprecated and will be removed from pandas in a future version. Use pandas.concat instead.\n",
      "  df_combined = df_combined.append(df_sheet, ignore_index=True)\n",
      "C:\\Users\\jki\\AppData\\Local\\Temp\\ipykernel_1524\\8645480.py:14: FutureWarning: The frame.append method is deprecated and will be removed from pandas in a future version. Use pandas.concat instead.\n",
      "  df_combined = df_combined.append(df_sheet, ignore_index=True)\n"
     ]
    },
    {
     "data": {
      "text/html": [
       "<div>\n",
       "<style scoped>\n",
       "    .dataframe tbody tr th:only-of-type {\n",
       "        vertical-align: middle;\n",
       "    }\n",
       "\n",
       "    .dataframe tbody tr th {\n",
       "        vertical-align: top;\n",
       "    }\n",
       "\n",
       "    .dataframe thead th {\n",
       "        text-align: right;\n",
       "    }\n",
       "</style>\n",
       "<table border=\"1\" class=\"dataframe\">\n",
       "  <thead>\n",
       "    <tr style=\"text-align: right;\">\n",
       "      <th></th>\n",
       "      <th>Address</th>\n",
       "      <th>Bedrooms</th>\n",
       "      <th>Bathrooms</th>\n",
       "      <th>Area</th>\n",
       "      <th>Year Built</th>\n",
       "      <th>Parking</th>\n",
       "      <th>Price</th>\n",
       "      <th>Location</th>\n",
       "    </tr>\n",
       "  </thead>\n",
       "  <tbody>\n",
       "    <tr>\n",
       "      <th>0</th>\n",
       "      <td>9400 La Playa St NE</td>\n",
       "      <td>4 Beds</td>\n",
       "      <td>3 Baths</td>\n",
       "      <td>2,000 sqft</td>\n",
       "      <td>1975</td>\n",
       "      <td>2 Car Garage</td>\n",
       "      <td>$330,000</td>\n",
       "      <td>Albuquerque</td>\n",
       "    </tr>\n",
       "    <tr>\n",
       "      <th>1</th>\n",
       "      <td>460 Wesley Ct SW</td>\n",
       "      <td>4 Beds</td>\n",
       "      <td>3 Baths</td>\n",
       "      <td>2,212 sqft</td>\n",
       "      <td>2003</td>\n",
       "      <td>2 Car Garage</td>\n",
       "      <td>$289,900</td>\n",
       "      <td>Albuquerque</td>\n",
       "    </tr>\n",
       "    <tr>\n",
       "      <th>2</th>\n",
       "      <td>1307 Bernardino Rd NW</td>\n",
       "      <td>2 Beds</td>\n",
       "      <td>1 Bath</td>\n",
       "      <td>815 sqft</td>\n",
       "      <td>1948</td>\n",
       "      <td>No Info</td>\n",
       "      <td>$155,000</td>\n",
       "      <td>Albuquerque</td>\n",
       "    </tr>\n",
       "    <tr>\n",
       "      <th>3</th>\n",
       "      <td>5215 Cimarron Rd NW</td>\n",
       "      <td>3 Beds</td>\n",
       "      <td>2 Baths</td>\n",
       "      <td>1,600 sqft</td>\n",
       "      <td>1977</td>\n",
       "      <td>2 Car Garage</td>\n",
       "      <td>$269,900</td>\n",
       "      <td>Albuquerque</td>\n",
       "    </tr>\n",
       "    <tr>\n",
       "      <th>4</th>\n",
       "      <td>2804 Charleston St NE</td>\n",
       "      <td>4 Beds</td>\n",
       "      <td>3 Baths</td>\n",
       "      <td>2,445 sqft</td>\n",
       "      <td>1963</td>\n",
       "      <td>2 Car Garage</td>\n",
       "      <td>$450,000</td>\n",
       "      <td>Albuquerque</td>\n",
       "    </tr>\n",
       "  </tbody>\n",
       "</table>\n",
       "</div>"
      ],
      "text/plain": [
       "                 Address Bedrooms Bathrooms        Area Year Built  \\\n",
       "0    9400 La Playa St NE   4 Beds   3 Baths  2,000 sqft       1975   \n",
       "1       460 Wesley Ct SW   4 Beds   3 Baths  2,212 sqft       2003   \n",
       "2  1307 Bernardino Rd NW   2 Beds    1 Bath    815 sqft       1948   \n",
       "3    5215 Cimarron Rd NW   3 Beds   2 Baths  1,600 sqft       1977   \n",
       "4  2804 Charleston St NE   4 Beds   3 Baths  2,445 sqft       1963   \n",
       "\n",
       "        Parking     Price     Location  \n",
       "0  2 Car Garage  $330,000  Albuquerque  \n",
       "1  2 Car Garage  $289,900  Albuquerque  \n",
       "2       No Info  $155,000  Albuquerque  \n",
       "3  2 Car Garage  $269,900  Albuquerque  \n",
       "4  2 Car Garage  $450,000  Albuquerque  "
      ]
     },
     "execution_count": 5,
     "metadata": {},
     "output_type": "execute_result"
    }
   ],
   "source": [
    "\n",
    "# Initialize dataframe\n",
    "df_combined = pd.DataFrame()\n",
    "\n",
    "for f in files_needed:\n",
    "    try:\n",
    "        # Get the list of sheet names\n",
    "        sheet_names = pd.ExcelFile(f).sheet_names\n",
    "\n",
    "        # Read the first sheet\n",
    "        df_sheet = pd.read_excel(f, sheet_names[0])\n",
    "\n",
    "        # Append the dataframe to df_combined\n",
    "        df_combined = df_combined.append(df_sheet, ignore_index=True)\n",
    "\n",
    "    except ValueError as e:\n",
    "        print(f\"Error reading '{f}': {e}\")\n",
    "\n",
    "# Now df_combined should contain data from all sheets\n",
    "df_combined.head(5)"
   ]
  },
  {
   "cell_type": "markdown",
   "id": "5b443d9c",
   "metadata": {},
   "source": [
    "# lets check for missing values\n"
   ]
  },
  {
   "cell_type": "code",
   "execution_count": 6,
   "id": "c1679103",
   "metadata": {},
   "outputs": [
    {
     "name": "stdout",
     "output_type": "stream",
     "text": [
      "Address         0\n",
      "Bedrooms      500\n",
      "Bathrooms     610\n",
      "Area          735\n",
      "Year Built    422\n",
      "Parking       492\n",
      "Price           3\n",
      "Location        0\n",
      "dtype: int64\n"
     ]
    }
   ],
   "source": [
    "missing_values = df_combined.isna().sum()\n",
    "print(missing_values)"
   ]
  },
  {
   "cell_type": "markdown",
   "id": "8edb05c8",
   "metadata": {},
   "source": [
    "## lets remove missing values"
   ]
  },
  {
   "cell_type": "code",
   "execution_count": 7,
   "id": "08d41c6f",
   "metadata": {},
   "outputs": [
    {
     "name": "stdout",
     "output_type": "stream",
     "text": [
      "Address       0\n",
      "Bedrooms      0\n",
      "Bathrooms     0\n",
      "Area          0\n",
      "Year Built    0\n",
      "Parking       0\n",
      "Price         0\n",
      "Location      0\n",
      "dtype: int64\n"
     ]
    }
   ],
   "source": [
    "# lets drop the missing values\n",
    "df_combined = df_combined.dropna(subset=['Bedrooms'])\n",
    "df_combined = df_combined.dropna(subset=['Bathrooms'])\n",
    "df_combined = df_combined.dropna(subset=['Area'])\n",
    "df_combined = df_combined.dropna(subset=['Year Built'])\n",
    "df_combined = df_combined.dropna(subset=['Parking'])\n",
    "\n",
    "missing_values = df_combined.isna().sum()\n",
    "print(missing_values)"
   ]
  },
  {
   "cell_type": "markdown",
   "id": "b2cbd60e",
   "metadata": {},
   "source": [
    "## lets check for unwanted negative values\n"
   ]
  },
  {
   "cell_type": "code",
   "execution_count": 8,
   "id": "32a359cc",
   "metadata": {},
   "outputs": [
    {
     "data": {
      "text/html": [
       "<div>\n",
       "<style scoped>\n",
       "    .dataframe tbody tr th:only-of-type {\n",
       "        vertical-align: middle;\n",
       "    }\n",
       "\n",
       "    .dataframe tbody tr th {\n",
       "        vertical-align: top;\n",
       "    }\n",
       "\n",
       "    .dataframe thead th {\n",
       "        text-align: right;\n",
       "    }\n",
       "</style>\n",
       "<table border=\"1\" class=\"dataframe\">\n",
       "  <thead>\n",
       "    <tr style=\"text-align: right;\">\n",
       "      <th></th>\n",
       "      <th>Address</th>\n",
       "      <th>Bedrooms</th>\n",
       "      <th>Bathrooms</th>\n",
       "      <th>Area</th>\n",
       "      <th>Year Built</th>\n",
       "      <th>Parking</th>\n",
       "      <th>Price</th>\n",
       "      <th>Location</th>\n",
       "    </tr>\n",
       "  </thead>\n",
       "  <tbody>\n",
       "    <tr>\n",
       "      <th>count</th>\n",
       "      <td>7826</td>\n",
       "      <td>7826</td>\n",
       "      <td>7826</td>\n",
       "      <td>7826</td>\n",
       "      <td>7826.0</td>\n",
       "      <td>7826</td>\n",
       "      <td>7826</td>\n",
       "      <td>7826</td>\n",
       "    </tr>\n",
       "    <tr>\n",
       "      <th>unique</th>\n",
       "      <td>6228</td>\n",
       "      <td>17</td>\n",
       "      <td>17</td>\n",
       "      <td>2915</td>\n",
       "      <td>288.0</td>\n",
       "      <td>42</td>\n",
       "      <td>1911</td>\n",
       "      <td>10</td>\n",
       "    </tr>\n",
       "    <tr>\n",
       "      <th>top</th>\n",
       "      <td>Address Not Disclosed</td>\n",
       "      <td>3 Beds</td>\n",
       "      <td>2 Baths</td>\n",
       "      <td>1,200 sqft</td>\n",
       "      <td>2021.0</td>\n",
       "      <td>Garage</td>\n",
       "      <td>$350,000</td>\n",
       "      <td>Las Vegas</td>\n",
       "    </tr>\n",
       "    <tr>\n",
       "      <th>freq</th>\n",
       "      <td>22</td>\n",
       "      <td>2637</td>\n",
       "      <td>2789</td>\n",
       "      <td>62</td>\n",
       "      <td>379.0</td>\n",
       "      <td>2050</td>\n",
       "      <td>61</td>\n",
       "      <td>891</td>\n",
       "    </tr>\n",
       "  </tbody>\n",
       "</table>\n",
       "</div>"
      ],
      "text/plain": [
       "                      Address Bedrooms Bathrooms        Area  Year Built  \\\n",
       "count                    7826     7826      7826        7826      7826.0   \n",
       "unique                   6228       17        17        2915       288.0   \n",
       "top     Address Not Disclosed   3 Beds   2 Baths  1,200 sqft      2021.0   \n",
       "freq                       22     2637      2789          62       379.0   \n",
       "\n",
       "       Parking     Price   Location  \n",
       "count     7826      7826       7826  \n",
       "unique      42      1911         10  \n",
       "top     Garage  $350,000  Las Vegas  \n",
       "freq      2050        61        891  "
      ]
     },
     "execution_count": 8,
     "metadata": {},
     "output_type": "execute_result"
    }
   ],
   "source": [
    "df_combined.describe()"
   ]
  },
  {
   "cell_type": "markdown",
   "id": "389c45da",
   "metadata": {},
   "source": [
    "## Check for Outliers and Doubles"
   ]
  },
  {
   "cell_type": "code",
   "execution_count": 9,
   "id": "2f0e3010",
   "metadata": {},
   "outputs": [],
   "source": [
    "df_combined= df_combined.drop_duplicates()"
   ]
  },
  {
   "cell_type": "code",
   "execution_count": 10,
   "id": "9ea212c5",
   "metadata": {},
   "outputs": [
    {
     "data": {
      "text/html": [
       "<div>\n",
       "<style scoped>\n",
       "    .dataframe tbody tr th:only-of-type {\n",
       "        vertical-align: middle;\n",
       "    }\n",
       "\n",
       "    .dataframe tbody tr th {\n",
       "        vertical-align: top;\n",
       "    }\n",
       "\n",
       "    .dataframe thead th {\n",
       "        text-align: right;\n",
       "    }\n",
       "</style>\n",
       "<table border=\"1\" class=\"dataframe\">\n",
       "  <thead>\n",
       "    <tr style=\"text-align: right;\">\n",
       "      <th></th>\n",
       "      <th>Address</th>\n",
       "      <th>Bedrooms</th>\n",
       "      <th>Bathrooms</th>\n",
       "      <th>Area</th>\n",
       "      <th>Year Built</th>\n",
       "      <th>Parking</th>\n",
       "      <th>Price</th>\n",
       "      <th>Location</th>\n",
       "    </tr>\n",
       "  </thead>\n",
       "  <tbody>\n",
       "    <tr>\n",
       "      <th>0</th>\n",
       "      <td>9400 La Playa St NE</td>\n",
       "      <td>4 Beds</td>\n",
       "      <td>3 Baths</td>\n",
       "      <td>2,000 sqft</td>\n",
       "      <td>1975</td>\n",
       "      <td>2 Car Garage</td>\n",
       "      <td>$330,000</td>\n",
       "      <td>Albuquerque</td>\n",
       "    </tr>\n",
       "    <tr>\n",
       "      <th>1</th>\n",
       "      <td>460 Wesley Ct SW</td>\n",
       "      <td>4 Beds</td>\n",
       "      <td>3 Baths</td>\n",
       "      <td>2,212 sqft</td>\n",
       "      <td>2003</td>\n",
       "      <td>2 Car Garage</td>\n",
       "      <td>$289,900</td>\n",
       "      <td>Albuquerque</td>\n",
       "    </tr>\n",
       "    <tr>\n",
       "      <th>2</th>\n",
       "      <td>1307 Bernardino Rd NW</td>\n",
       "      <td>2 Beds</td>\n",
       "      <td>1 Bath</td>\n",
       "      <td>815 sqft</td>\n",
       "      <td>1948</td>\n",
       "      <td>No Info</td>\n",
       "      <td>$155,000</td>\n",
       "      <td>Albuquerque</td>\n",
       "    </tr>\n",
       "    <tr>\n",
       "      <th>3</th>\n",
       "      <td>5215 Cimarron Rd NW</td>\n",
       "      <td>3 Beds</td>\n",
       "      <td>2 Baths</td>\n",
       "      <td>1,600 sqft</td>\n",
       "      <td>1977</td>\n",
       "      <td>2 Car Garage</td>\n",
       "      <td>$269,900</td>\n",
       "      <td>Albuquerque</td>\n",
       "    </tr>\n",
       "    <tr>\n",
       "      <th>4</th>\n",
       "      <td>2804 Charleston St NE</td>\n",
       "      <td>4 Beds</td>\n",
       "      <td>3 Baths</td>\n",
       "      <td>2,445 sqft</td>\n",
       "      <td>1963</td>\n",
       "      <td>2 Car Garage</td>\n",
       "      <td>$450,000</td>\n",
       "      <td>Albuquerque</td>\n",
       "    </tr>\n",
       "  </tbody>\n",
       "</table>\n",
       "</div>"
      ],
      "text/plain": [
       "                 Address Bedrooms Bathrooms        Area Year Built  \\\n",
       "0    9400 La Playa St NE   4 Beds   3 Baths  2,000 sqft       1975   \n",
       "1       460 Wesley Ct SW   4 Beds   3 Baths  2,212 sqft       2003   \n",
       "2  1307 Bernardino Rd NW   2 Beds    1 Bath    815 sqft       1948   \n",
       "3    5215 Cimarron Rd NW   3 Beds   2 Baths  1,600 sqft       1977   \n",
       "4  2804 Charleston St NE   4 Beds   3 Baths  2,445 sqft       1963   \n",
       "\n",
       "        Parking     Price     Location  \n",
       "0  2 Car Garage  $330,000  Albuquerque  \n",
       "1  2 Car Garage  $289,900  Albuquerque  \n",
       "2       No Info  $155,000  Albuquerque  \n",
       "3  2 Car Garage  $269,900  Albuquerque  \n",
       "4  2 Car Garage  $450,000  Albuquerque  "
      ]
     },
     "execution_count": 10,
     "metadata": {},
     "output_type": "execute_result"
    }
   ],
   "source": [
    "df_combined.head(5)"
   ]
  },
  {
   "cell_type": "code",
   "execution_count": 11,
   "id": "659900c9",
   "metadata": {},
   "outputs": [
    {
     "data": {
      "text/html": [
       "<div>\n",
       "<style scoped>\n",
       "    .dataframe tbody tr th:only-of-type {\n",
       "        vertical-align: middle;\n",
       "    }\n",
       "\n",
       "    .dataframe tbody tr th {\n",
       "        vertical-align: top;\n",
       "    }\n",
       "\n",
       "    .dataframe thead th {\n",
       "        text-align: right;\n",
       "    }\n",
       "</style>\n",
       "<table border=\"1\" class=\"dataframe\">\n",
       "  <thead>\n",
       "    <tr style=\"text-align: right;\">\n",
       "      <th></th>\n",
       "      <th>Address</th>\n",
       "      <th>Bedrooms</th>\n",
       "      <th>Bathrooms</th>\n",
       "      <th>Area</th>\n",
       "      <th>Year Built</th>\n",
       "      <th>Parking</th>\n",
       "      <th>Price</th>\n",
       "      <th>Location</th>\n",
       "      <th>Price($)</th>\n",
       "      <th>Year</th>\n",
       "    </tr>\n",
       "  </thead>\n",
       "  <tbody>\n",
       "    <tr>\n",
       "      <th>0</th>\n",
       "      <td>9400 La Playa St NE</td>\n",
       "      <td>4 Beds</td>\n",
       "      <td>3 Baths</td>\n",
       "      <td>2,000 sqft</td>\n",
       "      <td>1975</td>\n",
       "      <td>2 Car Garage</td>\n",
       "      <td>$330,000</td>\n",
       "      <td>Albuquerque</td>\n",
       "      <td>330000</td>\n",
       "      <td>1975</td>\n",
       "    </tr>\n",
       "    <tr>\n",
       "      <th>1</th>\n",
       "      <td>460 Wesley Ct SW</td>\n",
       "      <td>4 Beds</td>\n",
       "      <td>3 Baths</td>\n",
       "      <td>2,212 sqft</td>\n",
       "      <td>2003</td>\n",
       "      <td>2 Car Garage</td>\n",
       "      <td>$289,900</td>\n",
       "      <td>Albuquerque</td>\n",
       "      <td>289900</td>\n",
       "      <td>2003</td>\n",
       "    </tr>\n",
       "    <tr>\n",
       "      <th>2</th>\n",
       "      <td>1307 Bernardino Rd NW</td>\n",
       "      <td>2 Beds</td>\n",
       "      <td>1 Bath</td>\n",
       "      <td>815 sqft</td>\n",
       "      <td>1948</td>\n",
       "      <td>No Info</td>\n",
       "      <td>$155,000</td>\n",
       "      <td>Albuquerque</td>\n",
       "      <td>155000</td>\n",
       "      <td>1948</td>\n",
       "    </tr>\n",
       "    <tr>\n",
       "      <th>3</th>\n",
       "      <td>5215 Cimarron Rd NW</td>\n",
       "      <td>3 Beds</td>\n",
       "      <td>2 Baths</td>\n",
       "      <td>1,600 sqft</td>\n",
       "      <td>1977</td>\n",
       "      <td>2 Car Garage</td>\n",
       "      <td>$269,900</td>\n",
       "      <td>Albuquerque</td>\n",
       "      <td>269900</td>\n",
       "      <td>1977</td>\n",
       "    </tr>\n",
       "    <tr>\n",
       "      <th>4</th>\n",
       "      <td>2804 Charleston St NE</td>\n",
       "      <td>4 Beds</td>\n",
       "      <td>3 Baths</td>\n",
       "      <td>2,445 sqft</td>\n",
       "      <td>1963</td>\n",
       "      <td>2 Car Garage</td>\n",
       "      <td>$450,000</td>\n",
       "      <td>Albuquerque</td>\n",
       "      <td>450000</td>\n",
       "      <td>1963</td>\n",
       "    </tr>\n",
       "  </tbody>\n",
       "</table>\n",
       "</div>"
      ],
      "text/plain": [
       "                 Address Bedrooms Bathrooms        Area Year Built  \\\n",
       "0    9400 La Playa St NE   4 Beds   3 Baths  2,000 sqft       1975   \n",
       "1       460 Wesley Ct SW   4 Beds   3 Baths  2,212 sqft       2003   \n",
       "2  1307 Bernardino Rd NW   2 Beds    1 Bath    815 sqft       1948   \n",
       "3    5215 Cimarron Rd NW   3 Beds   2 Baths  1,600 sqft       1977   \n",
       "4  2804 Charleston St NE   4 Beds   3 Baths  2,445 sqft       1963   \n",
       "\n",
       "        Parking     Price     Location Price($)  Year  \n",
       "0  2 Car Garage  $330,000  Albuquerque   330000  1975  \n",
       "1  2 Car Garage  $289,900  Albuquerque   289900  2003  \n",
       "2       No Info  $155,000  Albuquerque   155000  1948  \n",
       "3  2 Car Garage  $269,900  Albuquerque   269900  1977  \n",
       "4  2 Car Garage  $450,000  Albuquerque   450000  1963  "
      ]
     },
     "execution_count": 11,
     "metadata": {},
     "output_type": "execute_result"
    }
   ],
   "source": [
    "df_combined['Price($)'] = df_combined['Price'].replace('[\\$,]', '', regex=True)\n",
    "df_combined['Year'] = df_combined['Year Built'].replace('[\\$,]', '', regex=True)\n",
    "df_combined.head(5)"
   ]
  },
  {
   "cell_type": "markdown",
   "id": "b139fbf6",
   "metadata": {},
   "source": [
    "## Let change the data types to perform numerical calculations"
   ]
  },
  {
   "cell_type": "code",
   "execution_count": 12,
   "id": "d0d419d6",
   "metadata": {},
   "outputs": [
    {
     "name": "stdout",
     "output_type": "stream",
     "text": [
      "<class 'pandas.core.frame.DataFrame'>\n",
      "Int64Index: 6246 entries, 0 to 8754\n",
      "Data columns (total 10 columns):\n",
      " #   Column      Non-Null Count  Dtype \n",
      "---  ------      --------------  ----- \n",
      " 0   Address     6246 non-null   object\n",
      " 1   Bedrooms    6246 non-null   object\n",
      " 2   Bathrooms   6246 non-null   object\n",
      " 3   Area        6246 non-null   object\n",
      " 4   Year Built  6246 non-null   object\n",
      " 5   Parking     6246 non-null   object\n",
      " 6   Price       6246 non-null   object\n",
      " 7   Location    6246 non-null   object\n",
      " 8   Price($)    6246 non-null   object\n",
      " 9   Year        6246 non-null   object\n",
      "dtypes: object(10)\n",
      "memory usage: 536.8+ KB\n"
     ]
    }
   ],
   "source": [
    "df_combined.info()"
   ]
  },
  {
   "cell_type": "code",
   "execution_count": 13,
   "id": "d0a9dfc6",
   "metadata": {},
   "outputs": [
    {
     "name": "stdout",
     "output_type": "stream",
     "text": [
      "<class 'pandas.core.frame.DataFrame'>\n",
      "Int64Index: 6246 entries, 0 to 8754\n",
      "Data columns (total 10 columns):\n",
      " #   Column      Non-Null Count  Dtype         \n",
      "---  ------      --------------  -----         \n",
      " 0   Address     6246 non-null   object        \n",
      " 1   Bedrooms    6246 non-null   object        \n",
      " 2   Bathrooms   6246 non-null   object        \n",
      " 3   Area        6246 non-null   object        \n",
      " 4   Year Built  6246 non-null   object        \n",
      " 5   Parking     6246 non-null   object        \n",
      " 6   Price       6246 non-null   object        \n",
      " 7   Location    6246 non-null   object        \n",
      " 8   Price($)    5993 non-null   float64       \n",
      " 9   Year        6143 non-null   datetime64[ns]\n",
      "dtypes: datetime64[ns](1), float64(1), object(8)\n",
      "memory usage: 536.8+ KB\n"
     ]
    }
   ],
   "source": [
    "# Convert 'Year' to datetime, handling errors by coercing invalid values to NaT\n",
    "df_combined['Year'] = pd.to_datetime(df_combined['Year'], errors='coerce')\n",
    "\n",
    "# Convert 'Price($)' to numeric\n",
    "df_combined['Price($)'] = pd.to_numeric(df_combined['Price($)'], errors='coerce')\n",
    "\n",
    "df_combined.info()"
   ]
  },
  {
   "cell_type": "markdown",
   "id": "1d3c92af",
   "metadata": {},
   "source": [
    "## 1 Which year had the most expensive houses\n"
   ]
  },
  {
   "cell_type": "code",
   "execution_count": 14,
   "id": "d74b8543",
   "metadata": {},
   "outputs": [
    {
     "name": "stdout",
     "output_type": "stream",
     "text": [
      "The Highest Price for houses was 1970.0 with prices of  $2,615,399,837.00\n"
     ]
    }
   ],
   "source": [
    "import pandas as pd\n",
    "import warnings\n",
    "\n",
    "warnings.filterwarnings(\"ignore\")\n",
    "\n",
    "# Assuming you have a DataFrame named 'df_combined' with the provided data\n",
    "# ...\n",
    "\n",
    "# Convert 'Year' to datetime, if it's not already in datetime format\n",
    "df_combined['Year'] = pd.to_datetime(df_combined['Year'], errors='coerce')\n",
    "\n",
    "# Extract the year from the datetime format\n",
    "df_combined['Year Name'] = df_combined['Year'].dt.year\n",
    "\n",
    "# Group by year and calculate total sales for each year\n",
    "prices_by_year = df_combined.groupby('Year Name').sum()['Price($)']\n",
    "\n",
    "# Find the best year for sales and the corresponding earnings\n",
    "highest_year = prices_by_year.idxmax()\n",
    "earnings_for_highest_year = prices_by_year.max()\n",
    "\n",
    "print(f\"The Highest Price for houses was {highest_year} with prices of  ${earnings_for_highest_year:,.2f}\")\n",
    "\n",
    "\n"
   ]
  },
  {
   "cell_type": "markdown",
   "id": "ed70f945",
   "metadata": {},
   "source": [
    "## 2 Which  house  based on bedroom category had the highest price\n"
   ]
  },
  {
   "cell_type": "code",
   "execution_count": 16,
   "id": "6bd0ebeb",
   "metadata": {},
   "outputs": [
    {
     "data": {
      "image/png": "[encoded data removed]",
      "text/plain": [
       "<Figure size 640x480 with 1 Axes>"
      ]
     },
     "metadata": {},
     "output_type": "display_data"
    }
   ],
   "source": [
    "import matplotlib.pyplot as plt\n",
    "# Plot the highest number of sales for each city\n",
    "\n",
    "Prices_by_bedroom_type = df_combined.groupby('Bedrooms').sum()['Price($)'] # Take the number of sales for each city\n",
    "unique_bedrooms = df_combined.groupby('Bedrooms').sum().index # Take all cities\n",
    "\n",
    "# Plot the highest number of sales for each city\n",
    "plt.bar(unique_bedrooms, Prices_by_bedroom_type)\n",
    "plt.xticks(unique_bedrooms, rotation = 90, size = 8)\n",
    "plt.ylabel('Prices in USD ($)')\n",
    "plt.xlabel('Bedrooms')\n",
    "plt.show()"
   ]
  },
  {
   "cell_type": "markdown",
   "id": "4a7f0d35",
   "metadata": {},
   "source": [
    "We can see 4 bedroom houses were the most expensive"
   ]
  },
  {
   "cell_type": "markdown",
   "id": "ee0574cd",
   "metadata": {},
   "source": [
    "## 3 Which house based on bathrooms category had the highest price\n"
   ]
  },
  {
   "cell_type": "code",
   "execution_count": 19,
   "id": "3d8f0dea",
   "metadata": {},
   "outputs": [
    {
     "data": {
      "image/png": "[encoded data removed]",
      "text/plain": [
       "<Figure size 640x480 with 1 Axes>"
      ]
     },
     "metadata": {},
     "output_type": "display_data"
    }
   ],
   "source": [
    "import matplotlib.pyplot as plt\n",
    "# Plot the highest price bsed on number of Bathrooms\n",
    "Prices_by_Bathrooms_type = df_combined.groupby('Bathrooms').sum()['Price($)'] # Take the number of sales for each city\n",
    "unique_Bathrooms = df_combined.groupby('Bathrooms').sum().index # Take all cities\n",
    "\n",
    "\n",
    "plt.bar(unique_Bathrooms, Prices_by_Bathrooms_type)\n",
    "plt.xticks(unique_Bathrooms, rotation = 90, size = 8)\n",
    "plt.ylabel('Prices in USD ($)')\n",
    "plt.xlabel('Bathrooms')\n",
    "plt.show()"
   ]
  },
  {
   "cell_type": "markdown",
   "id": "f8524a77",
   "metadata": {},
   "source": [
    "We can see 4 bathroom houses were the most expensive"
   ]
  },
  {
   "cell_type": "markdown",
   "id": "8baf07b2",
   "metadata": {},
   "source": [
    "## 4 Which house  based on parking category had the highest price\n"
   ]
  },
  {
   "cell_type": "code",
   "execution_count": 30,
   "id": "37e833dd",
   "metadata": {},
   "outputs": [
    {
     "data": {
      "image/png": "[encoded data removed]",
      "text/plain": [
       "<Figure size 640x480 with 1 Axes>"
      ]
     },
     "metadata": {},
     "output_type": "display_data"
    }
   ],
   "source": [
    "import matplotlib.pyplot as plt\n",
    "# Plot the highest price based on Parking House\n",
    "Prices_by_Parking_type = df_combined.groupby('Parking').sum()['Price($)'] # Take the number of sales for each city\n",
    "unique_Parking = df_combined.groupby('Parking').sum().index # Take all cities\n",
    "\n",
    "\n",
    "plt.bar(unique_Parking, Prices_by_Parking_type)\n",
    "plt.xticks(unique_Parking, rotation = 90, size = 8)\n",
    "plt.ylabel('Prices in USD ($)')\n",
    "plt.xlabel('Parking')\n",
    "plt.show()"
   ]
  },
  {
   "cell_type": "markdown",
   "id": "92283f64",
   "metadata": {},
   "source": [
    "We can see houses with no parking had the highest price"
   ]
  },
  {
   "cell_type": "markdown",
   "id": "5f34129e",
   "metadata": {},
   "source": [
    "## 5 Which  Location type  house had the highest price "
   ]
  },
  {
   "cell_type": "code",
   "execution_count": 35,
   "id": "5928f558",
   "metadata": {
    "scrolled": true
   },
   "outputs": [
    {
     "data": {
      "image/png": "[encoded data removed]",
      "text/plain": [
       "<Figure size 640x480 with 1 Axes>"
      ]
     },
     "metadata": {},
     "output_type": "display_data"
    }
   ],
   "source": [
    "import matplotlib.pyplot as plt\n",
    "# Plot the highest price based on Parking House\n",
    "Prices_by_Location_type = df_combined.groupby('Location').sum()['Price($)'] # Take the number of sales for each city\n",
    "unique_Location = df_combined.groupby('Location').sum().index # Take all cities\n",
    "\n",
    "\n",
    "plt.bar(unique_Location, Prices_by_Location_type)\n",
    "plt.xticks(unique_Location, rotation = 90, size = 8)\n",
    "plt.ylabel('Prices in USD ($)')\n",
    "plt.xlabel('Location')\n",
    "plt.show()"
   ]
  },
  {
   "cell_type": "markdown",
   "id": "6ea84952",
   "metadata": {},
   "source": [
    "We can conclude Newyork had the highest house price"
   ]
  },
  {
   "cell_type": "code",
   "execution_count": null,
   "id": "41c8332d",
   "metadata": {},
   "outputs": [],
   "source": []
  }
 ],
 "metadata": {
  "kernelspec": {
   "display_name": "Python 3 (ipykernel)",
   "language": "python",
   "name": "python3"
  },
  "language_info": {
   "codemirror_mode": {
    "name": "ipython",
    "version": 3
   },
   "file_extension": ".py",
   "mimetype": "text/x-python",
   "name": "python",
   "nbconvert_exporter": "python",
   "pygments_lexer": "ipython3",
   "version": "3.11.4"
  }
 },
 "nbformat": 4,
 "nbformat_minor": 5
}
