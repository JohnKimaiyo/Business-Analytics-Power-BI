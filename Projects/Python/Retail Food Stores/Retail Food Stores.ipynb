{
 "cells": [
  {
   "cell_type": "markdown",
   "id": "b8c5f30a",
   "metadata": {},
   "source": [
    "# State of NewYork Retail Food Stores EDA\n",
    "\n",
    "A listing of all retail food stores which are licensed by the Department of Agriculture and Markets. \n",
    "\n",
    "\n",
    "Dataset Source : https://catalog.data.gov/dataset/retail-food-stores"
   ]
  },
  {
   "cell_type": "code",
   "execution_count": 16,
   "id": "0079172f",
   "metadata": {},
   "outputs": [
    {
     "data": {
      "text/html": [
       "<div>\n",
       "<style scoped>\n",
       "    .dataframe tbody tr th:only-of-type {\n",
       "        vertical-align: middle;\n",
       "    }\n",
       "\n",
       "    .dataframe tbody tr th {\n",
       "        vertical-align: top;\n",
       "    }\n",
       "\n",
       "    .dataframe thead th {\n",
       "        text-align: right;\n",
       "    }\n",
       "</style>\n",
       "<table border=\"1\" class=\"dataframe\">\n",
       "  <thead>\n",
       "    <tr style=\"text-align: right;\">\n",
       "      <th></th>\n",
       "      <th>County</th>\n",
       "      <th>License Number</th>\n",
       "      <th>Operation Type</th>\n",
       "      <th>Establishment Type</th>\n",
       "      <th>Entity Name</th>\n",
       "      <th>DBA Name</th>\n",
       "      <th>Street Number</th>\n",
       "      <th>Street Name</th>\n",
       "      <th>Address Line 2</th>\n",
       "      <th>Address Line 3</th>\n",
       "      <th>City</th>\n",
       "      <th>State</th>\n",
       "      <th>Zip Code</th>\n",
       "      <th>Square Footage</th>\n",
       "      <th>Georeference</th>\n",
       "    </tr>\n",
       "  </thead>\n",
       "  <tbody>\n",
       "    <tr>\n",
       "      <th>0</th>\n",
       "      <td>Bronx</td>\n",
       "      <td>755553</td>\n",
       "      <td>Store</td>\n",
       "      <td>JAC</td>\n",
       "      <td>LA DIANA BAKERY SHOP CORP</td>\n",
       "      <td>LA DIANA BAKERY SHOP</td>\n",
       "      <td>2712B</td>\n",
       "      <td>E RETMONT AVE</td>\n",
       "      <td>NaN</td>\n",
       "      <td>NaN</td>\n",
       "      <td>BRONX</td>\n",
       "      <td>NY</td>\n",
       "      <td>10461</td>\n",
       "      <td>0</td>\n",
       "      <td>NaN</td>\n",
       "    </tr>\n",
       "    <tr>\n",
       "      <th>1</th>\n",
       "      <td>Bronx</td>\n",
       "      <td>749844</td>\n",
       "      <td>Store</td>\n",
       "      <td>A</td>\n",
       "      <td>CONVENIENCE 336 CORP</td>\n",
       "      <td>CONVENIENCE 336</td>\n",
       "      <td>336</td>\n",
       "      <td>E 167TH ST</td>\n",
       "      <td>NaN</td>\n",
       "      <td>NaN</td>\n",
       "      <td>BRONX</td>\n",
       "      <td>NY</td>\n",
       "      <td>10456</td>\n",
       "      <td>800</td>\n",
       "      <td>POINT (-73.91264 40.83102)</td>\n",
       "    </tr>\n",
       "    <tr>\n",
       "      <th>2</th>\n",
       "      <td>Bronx</td>\n",
       "      <td>739247</td>\n",
       "      <td>Store</td>\n",
       "      <td>JAC</td>\n",
       "      <td>WB DELI &amp; GROCERY INC</td>\n",
       "      <td>WB DELI &amp; GROCERY</td>\n",
       "      <td>756</td>\n",
       "      <td>UNION AVE</td>\n",
       "      <td>NaN</td>\n",
       "      <td>NaN</td>\n",
       "      <td>BRONX</td>\n",
       "      <td>NY</td>\n",
       "      <td>10455</td>\n",
       "      <td>0</td>\n",
       "      <td>POINT (-73.90356 40.81776)</td>\n",
       "    </tr>\n",
       "    <tr>\n",
       "      <th>3</th>\n",
       "      <td>Bronx</td>\n",
       "      <td>745933</td>\n",
       "      <td>Store</td>\n",
       "      <td>A</td>\n",
       "      <td>ISMAEL ONVENIENCE STORE CORP</td>\n",
       "      <td>ISMAEL CONVENIENCE STOR</td>\n",
       "      <td>689NE</td>\n",
       "      <td>1187TH ST</td>\n",
       "      <td>NaN</td>\n",
       "      <td>NaN</td>\n",
       "      <td>BRONX</td>\n",
       "      <td>NY</td>\n",
       "      <td>10458</td>\n",
       "      <td>0</td>\n",
       "      <td>NaN</td>\n",
       "    </tr>\n",
       "    <tr>\n",
       "      <th>4</th>\n",
       "      <td>Bronx</td>\n",
       "      <td>749047</td>\n",
       "      <td>Store</td>\n",
       "      <td>JAC</td>\n",
       "      <td>FERS GRILL DELI INC</td>\n",
       "      <td>NaN</td>\n",
       "      <td>2962</td>\n",
       "      <td>JEROME AVENUE</td>\n",
       "      <td>NaN</td>\n",
       "      <td>NaN</td>\n",
       "      <td>BRONX</td>\n",
       "      <td>NY</td>\n",
       "      <td>10468</td>\n",
       "      <td>1200</td>\n",
       "      <td>POINT (-73.88961 40.87283)</td>\n",
       "    </tr>\n",
       "  </tbody>\n",
       "</table>\n",
       "</div>"
      ],
      "text/plain": [
       "  County  License Number Operation Type Establishment Type  \\\n",
       "0  Bronx          755553          Store                JAC   \n",
       "1  Bronx          749844          Store                  A   \n",
       "2  Bronx          739247          Store                JAC   \n",
       "3  Bronx          745933          Store                  A   \n",
       "4  Bronx          749047          Store                JAC   \n",
       "\n",
       "                    Entity Name                 DBA Name Street Number  \\\n",
       "0     LA DIANA BAKERY SHOP CORP     LA DIANA BAKERY SHOP         2712B   \n",
       "1          CONVENIENCE 336 CORP          CONVENIENCE 336           336   \n",
       "2         WB DELI & GROCERY INC        WB DELI & GROCERY           756   \n",
       "3  ISMAEL ONVENIENCE STORE CORP  ISMAEL CONVENIENCE STOR         689NE   \n",
       "4           FERS GRILL DELI INC                      NaN          2962   \n",
       "\n",
       "     Street Name  Address Line 2  Address Line 3   City State  Zip Code  \\\n",
       "0  E RETMONT AVE             NaN             NaN  BRONX    NY     10461   \n",
       "1     E 167TH ST             NaN             NaN  BRONX    NY     10456   \n",
       "2      UNION AVE             NaN             NaN  BRONX    NY     10455   \n",
       "3      1187TH ST             NaN             NaN  BRONX    NY     10458   \n",
       "4  JEROME AVENUE             NaN             NaN  BRONX    NY     10468   \n",
       "\n",
       "   Square Footage                Georeference  \n",
       "0               0                         NaN  \n",
       "1             800  POINT (-73.91264 40.83102)  \n",
       "2               0  POINT (-73.90356 40.81776)  \n",
       "3               0                         NaN  \n",
       "4            1200  POINT (-73.88961 40.87283)  "
      ]
     },
     "execution_count": 16,
     "metadata": {},
     "output_type": "execute_result"
    }
   ],
   "source": [
    "## Load libraries\n",
    "import pandas as pd\n",
    "import numpy as np\n",
    "import calendar\n",
    "import warnings\n",
    "import pandas as pd\n",
    "import matplotlib.pyplot as plt\n",
    "from itertools import combinations\n",
    "from collections import Counter\n",
    "\n",
    "warnings.filterwarnings(\"ignore\")\n",
    "retail_food_stores_df = pd.read_csv(r\"C:\\Users\\jki\\Downloads\\Retail_Food_Stores.csv\")\n",
    "retail_food_stores_df.head(5)"
   ]
  },
  {
   "cell_type": "code",
   "execution_count": 17,
   "id": "a00a6e04",
   "metadata": {},
   "outputs": [
    {
     "data": {
      "text/html": [
       "<div>\n",
       "<style scoped>\n",
       "    .dataframe tbody tr th:only-of-type {\n",
       "        vertical-align: middle;\n",
       "    }\n",
       "\n",
       "    .dataframe tbody tr th {\n",
       "        vertical-align: top;\n",
       "    }\n",
       "\n",
       "    .dataframe thead th {\n",
       "        text-align: right;\n",
       "    }\n",
       "</style>\n",
       "<table border=\"1\" class=\"dataframe\">\n",
       "  <thead>\n",
       "    <tr style=\"text-align: right;\">\n",
       "      <th></th>\n",
       "      <th>County</th>\n",
       "      <th>License Number</th>\n",
       "      <th>Operation Type</th>\n",
       "      <th>Establishment Type</th>\n",
       "      <th>Entity Name</th>\n",
       "      <th>DBA Name</th>\n",
       "      <th>Street Number</th>\n",
       "      <th>Street Name</th>\n",
       "      <th>Address Line 2</th>\n",
       "      <th>Address Line 3</th>\n",
       "      <th>City</th>\n",
       "      <th>State</th>\n",
       "      <th>Zip Code</th>\n",
       "      <th>Square Footage</th>\n",
       "      <th>Georeference</th>\n",
       "    </tr>\n",
       "  </thead>\n",
       "  <tbody>\n",
       "    <tr>\n",
       "      <th>0</th>\n",
       "      <td>Bronx</td>\n",
       "      <td>755553</td>\n",
       "      <td>Store</td>\n",
       "      <td>JAC</td>\n",
       "      <td>LA DIANA BAKERY SHOP CORP</td>\n",
       "      <td>LA DIANA BAKERY SHOP</td>\n",
       "      <td>2712B</td>\n",
       "      <td>E RETMONT AVE</td>\n",
       "      <td>NaN</td>\n",
       "      <td>NaN</td>\n",
       "      <td>BRONX</td>\n",
       "      <td>NY</td>\n",
       "      <td>10461</td>\n",
       "      <td>0</td>\n",
       "      <td>NaN</td>\n",
       "    </tr>\n",
       "    <tr>\n",
       "      <th>1</th>\n",
       "      <td>Bronx</td>\n",
       "      <td>749844</td>\n",
       "      <td>Store</td>\n",
       "      <td>A</td>\n",
       "      <td>CONVENIENCE 336 CORP</td>\n",
       "      <td>CONVENIENCE 336</td>\n",
       "      <td>336</td>\n",
       "      <td>E 167TH ST</td>\n",
       "      <td>NaN</td>\n",
       "      <td>NaN</td>\n",
       "      <td>BRONX</td>\n",
       "      <td>NY</td>\n",
       "      <td>10456</td>\n",
       "      <td>800</td>\n",
       "      <td>POINT (-73.91264 40.83102)</td>\n",
       "    </tr>\n",
       "    <tr>\n",
       "      <th>2</th>\n",
       "      <td>Bronx</td>\n",
       "      <td>739247</td>\n",
       "      <td>Store</td>\n",
       "      <td>JAC</td>\n",
       "      <td>WB DELI &amp; GROCERY INC</td>\n",
       "      <td>WB DELI &amp; GROCERY</td>\n",
       "      <td>756</td>\n",
       "      <td>UNION AVE</td>\n",
       "      <td>NaN</td>\n",
       "      <td>NaN</td>\n",
       "      <td>BRONX</td>\n",
       "      <td>NY</td>\n",
       "      <td>10455</td>\n",
       "      <td>0</td>\n",
       "      <td>POINT (-73.90356 40.81776)</td>\n",
       "    </tr>\n",
       "    <tr>\n",
       "      <th>3</th>\n",
       "      <td>Bronx</td>\n",
       "      <td>745933</td>\n",
       "      <td>Store</td>\n",
       "      <td>A</td>\n",
       "      <td>ISMAEL ONVENIENCE STORE CORP</td>\n",
       "      <td>ISMAEL CONVENIENCE STOR</td>\n",
       "      <td>689NE</td>\n",
       "      <td>1187TH ST</td>\n",
       "      <td>NaN</td>\n",
       "      <td>NaN</td>\n",
       "      <td>BRONX</td>\n",
       "      <td>NY</td>\n",
       "      <td>10458</td>\n",
       "      <td>0</td>\n",
       "      <td>NaN</td>\n",
       "    </tr>\n",
       "    <tr>\n",
       "      <th>4</th>\n",
       "      <td>Bronx</td>\n",
       "      <td>749047</td>\n",
       "      <td>Store</td>\n",
       "      <td>JAC</td>\n",
       "      <td>FERS GRILL DELI INC</td>\n",
       "      <td>NaN</td>\n",
       "      <td>2962</td>\n",
       "      <td>JEROME AVENUE</td>\n",
       "      <td>NaN</td>\n",
       "      <td>NaN</td>\n",
       "      <td>BRONX</td>\n",
       "      <td>NY</td>\n",
       "      <td>10468</td>\n",
       "      <td>1200</td>\n",
       "      <td>POINT (-73.88961 40.87283)</td>\n",
       "    </tr>\n",
       "  </tbody>\n",
       "</table>\n",
       "</div>"
      ],
      "text/plain": [
       "  County  License Number Operation Type Establishment Type  \\\n",
       "0  Bronx          755553          Store                JAC   \n",
       "1  Bronx          749844          Store                  A   \n",
       "2  Bronx          739247          Store                JAC   \n",
       "3  Bronx          745933          Store                  A   \n",
       "4  Bronx          749047          Store                JAC   \n",
       "\n",
       "                    Entity Name                 DBA Name Street Number  \\\n",
       "0     LA DIANA BAKERY SHOP CORP     LA DIANA BAKERY SHOP         2712B   \n",
       "1          CONVENIENCE 336 CORP          CONVENIENCE 336           336   \n",
       "2         WB DELI & GROCERY INC        WB DELI & GROCERY           756   \n",
       "3  ISMAEL ONVENIENCE STORE CORP  ISMAEL CONVENIENCE STOR         689NE   \n",
       "4           FERS GRILL DELI INC                      NaN          2962   \n",
       "\n",
       "     Street Name  Address Line 2  Address Line 3   City State  Zip Code  \\\n",
       "0  E RETMONT AVE             NaN             NaN  BRONX    NY     10461   \n",
       "1     E 167TH ST             NaN             NaN  BRONX    NY     10456   \n",
       "2      UNION AVE             NaN             NaN  BRONX    NY     10455   \n",
       "3      1187TH ST             NaN             NaN  BRONX    NY     10458   \n",
       "4  JEROME AVENUE             NaN             NaN  BRONX    NY     10468   \n",
       "\n",
       "   Square Footage                Georeference  \n",
       "0               0                         NaN  \n",
       "1             800  POINT (-73.91264 40.83102)  \n",
       "2               0  POINT (-73.90356 40.81776)  \n",
       "3               0                         NaN  \n",
       "4            1200  POINT (-73.88961 40.87283)  "
      ]
     },
     "execution_count": 17,
     "metadata": {},
     "output_type": "execute_result"
    }
   ],
   "source": [
    "retail_food_stores_df.head(5)"
   ]
  },
  {
   "cell_type": "code",
   "execution_count": 18,
   "id": "7686b2c3",
   "metadata": {},
   "outputs": [
    {
     "name": "stdout",
     "output_type": "stream",
     "text": [
      "<class 'pandas.core.frame.DataFrame'>\n",
      "RangeIndex: 28520 entries, 0 to 28519\n",
      "Data columns (total 15 columns):\n",
      " #   Column              Non-Null Count  Dtype  \n",
      "---  ------              --------------  -----  \n",
      " 0   County              28520 non-null  object \n",
      " 1   License Number      28520 non-null  int64  \n",
      " 2   Operation Type      28520 non-null  object \n",
      " 3   Establishment Type  28520 non-null  object \n",
      " 4   Entity Name         28520 non-null  object \n",
      " 5   DBA Name            28513 non-null  object \n",
      " 6   Street Number       28361 non-null  object \n",
      " 7   Street Name         28520 non-null  object \n",
      " 8   Address Line 2      0 non-null      float64\n",
      " 9   Address Line 3      0 non-null      float64\n",
      " 10  City                28518 non-null  object \n",
      " 11  State               28520 non-null  object \n",
      " 12  Zip Code            28520 non-null  int64  \n",
      " 13  Square Footage      28520 non-null  int64  \n",
      " 14  Georeference        28295 non-null  object \n",
      "dtypes: float64(2), int64(3), object(10)\n",
      "memory usage: 3.3+ MB\n"
     ]
    }
   ],
   "source": [
    "# lets have a look at the data types\n",
    "retail_food_stores_df.info()"
   ]
  },
  {
   "cell_type": "markdown",
   "id": "3fbbecd6",
   "metadata": {},
   "source": [
    "## 1 What is the average square feet"
   ]
  },
  {
   "cell_type": "code",
   "execution_count": 27,
   "id": "df1330f6",
   "metadata": {},
   "outputs": [
    {
     "name": "stdout",
     "output_type": "stream",
     "text": [
      "4954\n"
     ]
    }
   ],
   "source": [
    "retail_food_stores_df['Square Footage'].mean()\n",
    "\n",
    "rounded_retail_food_stores_average = round(retail_food_stores_df['Square Footage'].mean())\n",
    "print(rounded_retail_food_stores_average)"
   ]
  },
  {
   "cell_type": "markdown",
   "id": "3f31207e",
   "metadata": {},
   "source": [
    "## 2 What is the maximum square feet"
   ]
  },
  {
   "cell_type": "code",
   "execution_count": 28,
   "id": "64cffbf0",
   "metadata": {},
   "outputs": [
    {
     "data": {
      "text/plain": [
       "500000"
      ]
     },
     "execution_count": 28,
     "metadata": {},
     "output_type": "execute_result"
    }
   ],
   "source": [
    "retail_food_stores_df['Square Footage'].max()"
   ]
  },
  {
   "cell_type": "markdown",
   "id": "36baf4bb",
   "metadata": {},
   "source": [
    "## 3 What are the top five counties with the highest square feet"
   ]
  },
  {
   "cell_type": "code",
   "execution_count": 24,
   "id": "ea5c52bc",
   "metadata": {},
   "outputs": [
    {
     "name": "stdout",
     "output_type": "stream",
     "text": [
      "County\n",
      "Suffolk    13108005\n",
      "Kings      12387510\n",
      "Erie       11122603\n",
      "Queens      9300961\n",
      "Nassau      8994623\n",
      "Name: Square Footage, dtype: int64\n"
     ]
    },
    {
     "data": {
      "image/png": "[encoded data removed]",
      "text/plain": [
       "<Figure size 1000x600 with 1 Axes>"
      ]
     },
     "metadata": {},
     "output_type": "display_data"
    }
   ],
   "source": [
    "# Group by 'County' and calculate the sum of 'squarefeet'\n",
    "squarefeet_count = retail_food_stores_df.groupby('County')['Square Footage'].sum()\n",
    "\n",
    "# Sort the values in descending order and select the top five\n",
    "top_five_squarefeet_count = squarefeet_count.sort_values(ascending=False).head(5)\n",
    "\n",
    "# Display the result\n",
    "print(top_five_squarefeet_count)\n",
    "\n",
    "# Plot the top five County\n",
    "top_five_squarefeet_count.plot(kind='bar', color='green', figsize=(10, 6))\n",
    "plt.title('Top Five Counties with the highest square feet')\n",
    "plt.xlabel('County')\n",
    "plt.ylabel('Squarefeet')\n",
    "plt.show()"
   ]
  },
  {
   "cell_type": "markdown",
   "id": "2242a115",
   "metadata": {},
   "source": [
    "## 4 What are the top Cities with the highest square feet"
   ]
  },
  {
   "cell_type": "code",
   "execution_count": 30,
   "id": "9a200c7c",
   "metadata": {},
   "outputs": [
    {
     "name": "stdout",
     "output_type": "stream",
     "text": [
      "City\n",
      "BROOKLYN     12384960\n",
      "NEW YORK      7033374\n",
      "BRONX         5466758\n",
      "BUFFALO       3476965\n",
      "ROCHESTER     2875322\n",
      "Name: Square Footage, dtype: int64\n"
     ]
    },
    {
     "data": {
      "image/png": "[encoded data removed]",
      "text/plain": [
       "<Figure size 1000x600 with 1 Axes>"
      ]
     },
     "metadata": {},
     "output_type": "display_data"
    }
   ],
   "source": [
    "# Group by 'City' and calculate the sum of 'squarefeet'\n",
    "squarefeet_count = retail_food_stores_df.groupby('City')['Square Footage'].sum()\n",
    "\n",
    "# Sort the values in descending order and select the top five\n",
    "top_five_squarefeet_count = squarefeet_count.sort_values(ascending=False).head(5)\n",
    "\n",
    "# Display the result\n",
    "print(top_five_squarefeet_count)\n",
    "\n",
    "# Plot the top five Cities\n",
    "top_five_squarefeet_count.plot(kind='bar', color='brown', figsize=(10, 6))\n",
    "plt.title('Top Five Cities with the highest square feet')\n",
    "plt.xlabel('City')\n",
    "plt.ylabel('Squarefeet')\n",
    "plt.show()"
   ]
  },
  {
   "cell_type": "code",
   "execution_count": null,
   "id": "3b67f13d",
   "metadata": {},
   "outputs": [],
   "source": []
  }
 ],
 "metadata": {
  "kernelspec": {
   "display_name": "Python 3 (ipykernel)",
   "language": "python",
   "name": "python3"
  },
  "language_info": {
   "codemirror_mode": {
    "name": "ipython",
    "version": 3
   },
   "file_extension": ".py",
   "mimetype": "text/x-python",
   "name": "python",
   "nbconvert_exporter": "python",
   "pygments_lexer": "ipython3",
   "version": "3.11.4"
  }
 },
 "nbformat": 4,
 "nbformat_minor": 5
}
